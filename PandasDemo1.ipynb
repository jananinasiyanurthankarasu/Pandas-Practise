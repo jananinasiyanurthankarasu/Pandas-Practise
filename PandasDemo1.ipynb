{
 "cells": [
  {
   "cell_type": "code",
   "execution_count": 21,
   "id": "2e9ffc8b-eba2-4659-a9f6-6cef34ab595f",
   "metadata": {},
   "outputs": [],
   "source": [
    "import pandas as pd"
   ]
  },
  {
   "cell_type": "code",
   "execution_count": 22,
   "id": "a0badf00-721e-4029-9046-243ada5bdc77",
   "metadata": {},
   "outputs": [],
   "source": [
    "na_vals = ['NA', 'Missing']\n",
    "df = pd.read_csv('survey_results_public.csv',index_col = 'Respondent', na_values = na_vals)"
   ]
  },
  {
   "cell_type": "code",
   "execution_count": null,
   "id": "a54f8246-2d3b-470b-bc36-d58e7ae3fe1c",
   "metadata": {},
   "outputs": [],
   "source": [
    "df.head(10)"
   ]
  },
  {
   "cell_type": "code",
   "execution_count": null,
   "id": "bd4f9019-4820-4a5a-9c35-89d12915357f",
   "metadata": {},
   "outputs": [],
   "source": [
    "df.shape"
   ]
  },
  {
   "cell_type": "code",
   "execution_count": 23,
   "id": "dcfa8a58-3722-41e3-84d9-aa6adaabf3ea",
   "metadata": {},
   "outputs": [
    {
     "name": "stdout",
     "output_type": "stream",
     "text": [
      "<class 'pandas.core.frame.DataFrame'>\n",
      "Index: 88883 entries, 1 to 88863\n",
      "Data columns (total 84 columns):\n",
      " #   Column                  Non-Null Count  Dtype  \n",
      "---  ------                  --------------  -----  \n",
      " 0   MainBranch              88331 non-null  object \n",
      " 1   Hobbyist                88883 non-null  object \n",
      " 2   OpenSourcer             88883 non-null  object \n",
      " 3   OpenSource              86842 non-null  object \n",
      " 4   Employment              87181 non-null  object \n",
      " 5   Country                 88751 non-null  object \n",
      " 6   Student                 87014 non-null  object \n",
      " 7   EdLevel                 86390 non-null  object \n",
      " 8   UndergradMajor          75614 non-null  object \n",
      " 9   EduOther                84260 non-null  object \n",
      " 10  OrgSize                 71791 non-null  object \n",
      " 11  DevType                 81335 non-null  object \n",
      " 12  YearsCode               87938 non-null  object \n",
      " 13  Age1stCode              87634 non-null  object \n",
      " 14  YearsCodePro            74331 non-null  object \n",
      " 15  CareerSat               72847 non-null  object \n",
      " 16  JobSat                  70988 non-null  object \n",
      " 17  MgrIdiot                61159 non-null  object \n",
      " 18  MgrMoney                61157 non-null  object \n",
      " 19  MgrWant                 61232 non-null  object \n",
      " 20  JobSeek                 80555 non-null  object \n",
      " 21  LastHireDate            79854 non-null  object \n",
      " 22  LastInt                 67155 non-null  object \n",
      " 23  FizzBuzz                71344 non-null  object \n",
      " 24  JobFactors              79371 non-null  object \n",
      " 25  ResumeUpdate            77877 non-null  object \n",
      " 26  CurrencySymbol          71392 non-null  object \n",
      " 27  CurrencyDesc            71392 non-null  object \n",
      " 28  CompTotal               55945 non-null  float64\n",
      " 29  CompFreq                63268 non-null  object \n",
      " 30  ConvertedComp           55823 non-null  float64\n",
      " 31  WorkWeekHrs             64503 non-null  float64\n",
      " 32  WorkPlan                68914 non-null  object \n",
      " 33  WorkChallenge           68141 non-null  object \n",
      " 34  WorkRemote              70284 non-null  object \n",
      " 35  WorkLoc                 70055 non-null  object \n",
      " 36  ImpSyn                  71779 non-null  object \n",
      " 37  CodeRev                 70390 non-null  object \n",
      " 38  CodeRevHrs              49790 non-null  float64\n",
      " 39  UnitTests               62668 non-null  object \n",
      " 40  PurchaseHow             61108 non-null  object \n",
      " 41  PurchaseWhat            62029 non-null  object \n",
      " 42  LanguageWorkedWith      87569 non-null  object \n",
      " 43  LanguageDesireNextYear  84088 non-null  object \n",
      " 44  DatabaseWorkedWith      76026 non-null  object \n",
      " 45  DatabaseDesireNextYear  69147 non-null  object \n",
      " 46  PlatformWorkedWith      80714 non-null  object \n",
      " 47  PlatformDesireNextYear  77443 non-null  object \n",
      " 48  WebFrameWorkedWith      65022 non-null  object \n",
      " 49  WebFrameDesireNextYear  62944 non-null  object \n",
      " 50  MiscTechWorkedWith      59586 non-null  object \n",
      " 51  MiscTechDesireNextYear  64511 non-null  object \n",
      " 52  DevEnviron              87317 non-null  object \n",
      " 53  OpSys                   87851 non-null  object \n",
      " 54  Containers              85366 non-null  object \n",
      " 55  BlockchainOrg           48175 non-null  object \n",
      " 56  BlockchainIs            60165 non-null  object \n",
      " 57  BetterLife              86269 non-null  object \n",
      " 58  ITperson                87141 non-null  object \n",
      " 59  OffOn                   86663 non-null  object \n",
      " 60  SocialMedia             84437 non-null  object \n",
      " 61  Extraversion            87305 non-null  object \n",
      " 62  ScreenName              80486 non-null  object \n",
      " 63  SOVisit1st              83877 non-null  object \n",
      " 64  SOVisitFreq             88263 non-null  object \n",
      " 65  SOVisitTo               88086 non-null  object \n",
      " 66  SOFindAnswer            87816 non-null  object \n",
      " 67  SOTimeSaved             86344 non-null  object \n",
      " 68  SOHowMuchTime           68378 non-null  object \n",
      " 69  SOAccount               87828 non-null  object \n",
      " 70  SOPartFreq              74692 non-null  object \n",
      " 71  SOJobs                  88066 non-null  object \n",
      " 72  EntTeams                87841 non-null  object \n",
      " 73  SOComm                  88131 non-null  object \n",
      " 74  WelcomeChange           85855 non-null  object \n",
      " 75  SONewContent            69560 non-null  object \n",
      " 76  Age                     79210 non-null  float64\n",
      " 77  Gender                  85406 non-null  object \n",
      " 78  Trans                   83607 non-null  object \n",
      " 79  Sexuality               76147 non-null  object \n",
      " 80  Ethnicity               76668 non-null  object \n",
      " 81  Dependents              83059 non-null  object \n",
      " 82  SurveyLength            86984 non-null  object \n",
      " 83  SurveyEase              87081 non-null  object \n",
      "dtypes: float64(5), object(79)\n",
      "memory usage: 57.6+ MB\n"
     ]
    }
   ],
   "source": [
    "df.info()"
   ]
  },
  {
   "cell_type": "code",
   "execution_count": 7,
   "id": "1326847b-64ad-4e07-b795-38257ac4c9df",
   "metadata": {},
   "outputs": [],
   "source": [
    "pd.set_option('display.max_columns',85)"
   ]
  },
  {
   "cell_type": "code",
   "execution_count": null,
   "id": "0faf6da8-fcf3-4563-9849-208e7f8515f8",
   "metadata": {},
   "outputs": [],
   "source": [
    "df\n"
   ]
  },
  {
   "cell_type": "code",
   "execution_count": 9,
   "id": "d18d20a7-b606-48db-9aa2-fdfb9178dd22",
   "metadata": {},
   "outputs": [],
   "source": [
    "schema_df =pd.read_csv('survey_results_schema.csv',index_col = 'Column')\n"
   ]
  },
  {
   "cell_type": "code",
   "execution_count": null,
   "id": "aeb34c60-7dde-4c19-8d87-8f38c1d47360",
   "metadata": {},
   "outputs": [],
   "source": [
    "schema_df"
   ]
  },
  {
   "cell_type": "code",
   "execution_count": null,
   "id": "78b21f89-06fa-451e-bfa5-0c6d61c60086",
   "metadata": {},
   "outputs": [],
   "source": [
    "schema_df.info()"
   ]
  },
  {
   "cell_type": "code",
   "execution_count": 12,
   "id": "92487959-87df-4083-9a06-d3ab4d28a83d",
   "metadata": {},
   "outputs": [],
   "source": [
    "pd.set_option('display.max_rows',85)"
   ]
  },
  {
   "cell_type": "code",
   "execution_count": null,
   "id": "3223ab52-1b23-42b9-b844-6b64b26172e7",
   "metadata": {},
   "outputs": [],
   "source": [
    "schema_df"
   ]
  },
  {
   "cell_type": "code",
   "execution_count": null,
   "id": "cb16f710-9b62-4ea2-a70f-bfb835ad4646",
   "metadata": {},
   "outputs": [],
   "source": [
    "df.tail()"
   ]
  },
  {
   "cell_type": "code",
   "execution_count": null,
   "id": "ee8142e3-024d-43a9-92cb-74c4c9a548ce",
   "metadata": {},
   "outputs": [],
   "source": [
    "df.tail(10)"
   ]
  },
  {
   "cell_type": "code",
   "execution_count": null,
   "id": "43c49371-e46e-4f52-976c-0d0bada11638",
   "metadata": {},
   "outputs": [],
   "source": [
    "df.shape"
   ]
  },
  {
   "cell_type": "code",
   "execution_count": null,
   "id": "e3b85cc0-b090-4356-9a6d-0d52d662ab26",
   "metadata": {},
   "outputs": [],
   "source": [
    "df.columns"
   ]
  },
  {
   "cell_type": "code",
   "execution_count": null,
   "id": "c6636df1-cd7a-4c28-adb1-385ca372ff46",
   "metadata": {},
   "outputs": [],
   "source": [
    "df['Hobbyist']"
   ]
  },
  {
   "cell_type": "code",
   "execution_count": null,
   "id": "523cf881-a217-4dd0-a8df-ad6938788f63",
   "metadata": {},
   "outputs": [],
   "source": [
    "df['Hobbyist'].value_counts()"
   ]
  },
  {
   "cell_type": "code",
   "execution_count": null,
   "id": "f17dfb8a-90df-4b5c-b348-1839b2ec7d03",
   "metadata": {},
   "outputs": [],
   "source": [
    "df.loc[[0,1,2],'Hobbyist']"
   ]
  },
  {
   "cell_type": "code",
   "execution_count": null,
   "id": "4e5c8174-b58a-43d1-8433-b1f94cfa6096",
   "metadata": {},
   "outputs": [],
   "source": [
    "df.loc[0:2,'Hobbyist':'Employment']"
   ]
  },
  {
   "cell_type": "code",
   "execution_count": null,
   "id": "aace2d32-075b-4205-ad21-f9d964bcea1a",
   "metadata": {},
   "outputs": [],
   "source": [
    "schema_df.loc['MgrIdiot','QuestionText']"
   ]
  },
  {
   "cell_type": "code",
   "execution_count": null,
   "id": "319abdb6-974c-40a8-bebb-276c8d331c64",
   "metadata": {},
   "outputs": [],
   "source": [
    "schema_df.sort_index(ascending=False)"
   ]
  },
  {
   "cell_type": "code",
   "execution_count": null,
   "id": "833d439c-66cc-4675-81a0-4dcd8dbcb5bb",
   "metadata": {},
   "outputs": [],
   "source": [
    "high_salary = (df['ConvertedComp'] > 70000)"
   ]
  },
  {
   "cell_type": "code",
   "execution_count": null,
   "id": "df2235dd-a86c-48b6-abed-bc3a2da1620e",
   "metadata": {},
   "outputs": [],
   "source": [
    "df.loc[high_salary,['Country','LanguageWorkedWith','ConvertedComp']]"
   ]
  },
  {
   "cell_type": "code",
   "execution_count": null,
   "id": "23fcc915-ea9e-4955-a9e5-9ece2d317857",
   "metadata": {},
   "outputs": [],
   "source": [
    "countries = ['United States', 'India', 'United Kingdom', 'Germany', 'Canada']"
   ]
  },
  {
   "cell_type": "code",
   "execution_count": null,
   "id": "c99ae94b-985c-4051-90f1-3b13f367575e",
   "metadata": {},
   "outputs": [],
   "source": [
    "filt = df['Country'].isin(countries)"
   ]
  },
  {
   "cell_type": "code",
   "execution_count": null,
   "id": "880d8ccb-8053-4930-a704-96f04208318c",
   "metadata": {},
   "outputs": [],
   "source": [
    "df.loc[filt,'Country']"
   ]
  },
  {
   "cell_type": "code",
   "execution_count": null,
   "id": "b52e9222-873b-4fd1-8cdb-4e6fba037ace",
   "metadata": {},
   "outputs": [],
   "source": [
    "df['LanguageWorkedWith']\n"
   ]
  },
  {
   "cell_type": "code",
   "execution_count": null,
   "id": "1a19dcaf-a5bc-4db7-bcff-091fc2afe294",
   "metadata": {},
   "outputs": [],
   "source": [
    "filt = df['LanguageWorkedWith'].str.contains('Python',na=False)"
   ]
  },
  {
   "cell_type": "code",
   "execution_count": null,
   "id": "adac4277-92ec-452a-a4df-9cef4c40e5be",
   "metadata": {},
   "outputs": [],
   "source": [
    "df.loc[filt,'LanguageWorkedWith']"
   ]
  },
  {
   "cell_type": "code",
   "execution_count": null,
   "id": "8644a703-5461-4f0b-91a0-00bc1b790ab6",
   "metadata": {},
   "outputs": [],
   "source": [
    "filt"
   ]
  },
  {
   "cell_type": "code",
   "execution_count": null,
   "id": "8627ec6c-a7b4-4296-ad6d-da10624ffbab",
   "metadata": {},
   "outputs": [],
   "source": [
    "df.rename(columns= {'ConvertedComp' : 'SalaryUSD'})"
   ]
  },
  {
   "cell_type": "code",
   "execution_count": null,
   "id": "367850ec-7193-42ec-8dfb-ec4e67c329cd",
   "metadata": {},
   "outputs": [],
   "source": [
    "df.rename(columns = {'ConvertedComp' : ' SalaryUSD'})"
   ]
  },
  {
   "cell_type": "code",
   "execution_count": null,
   "id": "a679be31-3bf8-4b80-9bf3-b76f07404190",
   "metadata": {},
   "outputs": [],
   "source": [
    "df.columns"
   ]
  },
  {
   "cell_type": "code",
   "execution_count": null,
   "id": "8468fa1d-8970-49fb-8f31-e32039815b20",
   "metadata": {},
   "outputs": [],
   "source": [
    "df.rename(columns = {'ConvertedComp' :'SalaryUSD'}, inplace = True)"
   ]
  },
  {
   "cell_type": "code",
   "execution_count": null,
   "id": "e516d1b8-c490-4607-aa8d-b45358b5d73b",
   "metadata": {},
   "outputs": [],
   "source": [
    "df"
   ]
  },
  {
   "cell_type": "code",
   "execution_count": null,
   "id": "af4de732-4877-4be3-a7cb-01d4fe49096a",
   "metadata": {},
   "outputs": [],
   "source": [
    "df.columns\n"
   ]
  },
  {
   "cell_type": "code",
   "execution_count": null,
   "id": "5997e463-347e-4018-a9f0-b6140da9ca4a",
   "metadata": {},
   "outputs": [],
   "source": [
    "df['SalaryUSD']"
   ]
  },
  {
   "cell_type": "code",
   "execution_count": null,
   "id": "47b57884-4daa-40a3-9c6e-46da24e7cfe9",
   "metadata": {},
   "outputs": [],
   "source": [
    "df['Hobbyist']"
   ]
  },
  {
   "cell_type": "code",
   "execution_count": null,
   "id": "bf3b520d-87e8-4958-bce0-2c20cb558d35",
   "metadata": {},
   "outputs": [],
   "source": [
    "df['Hobbyist'].map({'Yes' : 'True', 'No':'False'})"
   ]
  },
  {
   "cell_type": "code",
   "execution_count": null,
   "id": "e8ee8998-3557-4109-b3ab-07fd5443e6b3",
   "metadata": {},
   "outputs": [],
   "source": [
    "df"
   ]
  },
  {
   "cell_type": "code",
   "execution_count": null,
   "id": "c79bce2e-ee92-48ba-9905-c27844e4d47a",
   "metadata": {},
   "outputs": [],
   "source": [
    "df['Hobbyist'] = df['Hobbyist'].map({'Yes':'True', 'No':'False'})"
   ]
  },
  {
   "cell_type": "code",
   "execution_count": null,
   "id": "ddf28bd3-d000-46ec-9d67-7865788d3381",
   "metadata": {
    "scrolled": true
   },
   "outputs": [],
   "source": [
    "df"
   ]
  },
  {
   "cell_type": "code",
   "execution_count": null,
   "id": "7b4a3478-b2da-4bcf-b44c-b02488da43ff",
   "metadata": {},
   "outputs": [],
   "source": [
    "df.sort_values(by='Country',inplace=True)"
   ]
  },
  {
   "cell_type": "code",
   "execution_count": null,
   "id": "ba749ed2-5afd-40d0-8b3b-e02873edd325",
   "metadata": {},
   "outputs": [],
   "source": [
    "df"
   ]
  },
  {
   "cell_type": "code",
   "execution_count": null,
   "id": "5e145d70-65d6-47be-a9de-560ce5b28b79",
   "metadata": {},
   "outputs": [],
   "source": [
    "df['Country'].head(50)"
   ]
  },
  {
   "cell_type": "code",
   "execution_count": null,
   "id": "f803dc58-a1f4-47d3-8c8f-2afe2ffd6c68",
   "metadata": {},
   "outputs": [],
   "source": [
    "df.colums"
   ]
  },
  {
   "cell_type": "code",
   "execution_count": null,
   "id": "fe6c0d7e-542f-4a21-b143-624b87a3c8f6",
   "metadata": {},
   "outputs": [],
   "source": [
    "df.columns"
   ]
  },
  {
   "cell_type": "code",
   "execution_count": null,
   "id": "88501d36-7b28-4781-a5a5-e46d78a2ea2c",
   "metadata": {},
   "outputs": [],
   "source": [
    "df[['Country','ConvertedComp']].head(50)\n"
   ]
  },
  {
   "cell_type": "code",
   "execution_count": null,
   "id": "24765397-fbee-4a55-bfb1-c070729521de",
   "metadata": {},
   "outputs": [],
   "source": [
    "df.sort_values(by=['Country','ConvertedComp'], ascending = [True,False], inplace= True)"
   ]
  },
  {
   "cell_type": "code",
   "execution_count": null,
   "id": "6bad63de-73f5-4d84-a9de-9438c3f242c1",
   "metadata": {},
   "outputs": [],
   "source": [
    "df[['Country','ConvertedComp']].head(50)"
   ]
  },
  {
   "cell_type": "code",
   "execution_count": null,
   "id": "f9b53c89-7335-4fa5-80da-48891495c618",
   "metadata": {},
   "outputs": [],
   "source": [
    "df['ConvertedComp'].nlargest(10)"
   ]
  },
  {
   "cell_type": "code",
   "execution_count": null,
   "id": "f55161e0-6dd4-418f-8d70-15d5a44ba6d0",
   "metadata": {},
   "outputs": [],
   "source": [
    "df.nlargest(10,'ConvertedComp')"
   ]
  },
  {
   "cell_type": "code",
   "execution_count": null,
   "id": "d6a24d33-7b10-4cd2-bb81-33dd6df45ad1",
   "metadata": {},
   "outputs": [],
   "source": [
    "df.nsmallest(10,'ConvertedComp')"
   ]
  },
  {
   "cell_type": "code",
   "execution_count": null,
   "id": "95b0dd92-2f83-471b-8e80-e9cd3821212f",
   "metadata": {},
   "outputs": [],
   "source": [
    "df['ConvertedComp'].head(15)\n"
   ]
  },
  {
   "cell_type": "code",
   "execution_count": null,
   "id": "696e4c04-5a45-477a-bdff-7a23fb118e3a",
   "metadata": {},
   "outputs": [],
   "source": [
    "df['ConvertedComp'].median()\n"
   ]
  },
  {
   "cell_type": "code",
   "execution_count": null,
   "id": "e807749b-96ed-4f69-b708-888c29a2f2fc",
   "metadata": {},
   "outputs": [],
   "source": [
    "df['ConvertedComp'].median()"
   ]
  },
  {
   "cell_type": "code",
   "execution_count": null,
   "id": "42e58822-2e66-4f06-acb0-dd0d8e2e83b9",
   "metadata": {},
   "outputs": [],
   "source": [
    "df['ConvertedComp'].median()"
   ]
  },
  {
   "cell_type": "code",
   "execution_count": null,
   "id": "b3f02a91-1a9a-40e8-89ce-d3e1a0b42715",
   "metadata": {},
   "outputs": [],
   "source": [
    "df['ConvertedComp'].median()"
   ]
  },
  {
   "cell_type": "code",
   "execution_count": null,
   "id": "c174c100-56ce-40de-93d5-80419e2b5e5c",
   "metadata": {},
   "outputs": [],
   "source": [
    "df['ConvertedComp'].median()"
   ]
  },
  {
   "cell_type": "code",
   "execution_count": null,
   "id": "60523110-44a1-42e7-95d6-297c2e065242",
   "metadata": {},
   "outputs": [],
   "source": [
    "df"
   ]
  },
  {
   "cell_type": "code",
   "execution_count": null,
   "id": "0fc72c71-f0bc-498d-be77-7e238441cb18",
   "metadata": {},
   "outputs": [],
   "source": [
    "df.describe()"
   ]
  },
  {
   "cell_type": "code",
   "execution_count": null,
   "id": "0b508a23-6f55-4e6d-8c64-5e7cf602e157",
   "metadata": {},
   "outputs": [],
   "source": [
    "df['ConvertedComp'].count()"
   ]
  },
  {
   "cell_type": "code",
   "execution_count": null,
   "id": "062a9f02-237f-47b6-8c00-26c49bd17394",
   "metadata": {},
   "outputs": [],
   "source": [
    "df['Hobbyist']"
   ]
  },
  {
   "cell_type": "code",
   "execution_count": null,
   "id": "fe7df3f8-b3c6-43a1-9880-dc63ea0e1016",
   "metadata": {},
   "outputs": [],
   "source": [
    "df['Hobbyist'].value_counts()"
   ]
  },
  {
   "cell_type": "code",
   "execution_count": null,
   "id": "89eb9d56-9f7f-4363-8e0b-6509974479a2",
   "metadata": {},
   "outputs": [],
   "source": [
    "df['SocialMedia']"
   ]
  },
  {
   "cell_type": "code",
   "execution_count": null,
   "id": "060ab1b0-d5bb-443d-ad61-2bbbdab66564",
   "metadata": {},
   "outputs": [],
   "source": [
    "schema_df=pd.read_csv('survey_results_schema.csv', index_col='Column')"
   ]
  },
  {
   "cell_type": "code",
   "execution_count": null,
   "id": "244e2b71-43a1-4572-ad0a-6efa18c9fea7",
   "metadata": {},
   "outputs": [],
   "source": [
    "schema_df"
   ]
  },
  {
   "cell_type": "code",
   "execution_count": null,
   "id": "0be2171d-1e12-4577-b172-269a5afa6148",
   "metadata": {},
   "outputs": [],
   "source": [
    "schema_df.loc['SocialMedia']"
   ]
  },
  {
   "cell_type": "code",
   "execution_count": null,
   "id": "a881e374-0dcb-4fb2-bd0e-081d2244429e",
   "metadata": {},
   "outputs": [],
   "source": [
    "df['SocialMedia'].value_counts()"
   ]
  },
  {
   "cell_type": "code",
   "execution_count": null,
   "id": "410c56c3-ad3b-4cb0-93b5-ed8a6c4dd128",
   "metadata": {},
   "outputs": [],
   "source": [
    "df['SocialMedia'].value_counts(normalize = True)"
   ]
  },
  {
   "cell_type": "code",
   "execution_count": null,
   "id": "a1bad421-e9ce-4314-a28b-3681f2ea8d80",
   "metadata": {},
   "outputs": [],
   "source": [
    "df['Country'].value_counts()"
   ]
  },
  {
   "cell_type": "code",
   "execution_count": null,
   "id": "f13f81e2-2f03-42fe-b30b-61721c303cd8",
   "metadata": {},
   "outputs": [],
   "source": [
    "country_grp = df.groupby(['Country'])"
   ]
  },
  {
   "cell_type": "code",
   "execution_count": null,
   "id": "ce554ffa-70a7-49fb-962d-f826cf6a6214",
   "metadata": {},
   "outputs": [],
   "source": [
    "country_grp.get_group('United States')"
   ]
  },
  {
   "cell_type": "code",
   "execution_count": null,
   "id": "5b46fc6a-5fc2-4943-bd61-c76753be360f",
   "metadata": {},
   "outputs": [],
   "source": [
    "filt = df['Country'] == 'United States'\n",
    "df.loc[filt]"
   ]
  },
  {
   "cell_type": "code",
   "execution_count": null,
   "id": "7acc0bcb-d67d-473d-8428-b681aa9667c4",
   "metadata": {},
   "outputs": [],
   "source": [
    "filt = df['Country'] == 'United States'"
   ]
  },
  {
   "cell_type": "code",
   "execution_count": null,
   "id": "89d7f35a-84bd-446a-854d-cf1a558297b9",
   "metadata": {},
   "outputs": [],
   "source": [
    "df.loc[filt]['SocialMedia'].value_counts()"
   ]
  },
  {
   "cell_type": "code",
   "execution_count": null,
   "id": "9ce4d855-6148-4cec-a2e8-4077a40efc0b",
   "metadata": {},
   "outputs": [],
   "source": [
    "filt = df['Country'] == 'India'"
   ]
  },
  {
   "cell_type": "code",
   "execution_count": null,
   "id": "37ba2c31-94b5-4989-bd8a-378a3283a56f",
   "metadata": {},
   "outputs": [],
   "source": [
    "df.loc[filt]['SocialMedia'].value_counts()"
   ]
  },
  {
   "cell_type": "code",
   "execution_count": null,
   "id": "010c0ea2-209b-42b1-a0c0-ee294fb2fe7e",
   "metadata": {},
   "outputs": [],
   "source": [
    "country_grp['SocialMedia'].value_counts()"
   ]
  },
  {
   "cell_type": "code",
   "execution_count": null,
   "id": "df64fe79-7679-4698-836b-c7116af5544a",
   "metadata": {},
   "outputs": [],
   "source": [
    "country_grp['SocialMedia'].value_counts().head(50)\n"
   ]
  },
  {
   "cell_type": "code",
   "execution_count": null,
   "id": "771ed420-2c60-45e8-b8b3-550d2a112ff3",
   "metadata": {},
   "outputs": [],
   "source": [
    "country_grp['SocialMedia'].value_counts().loc['India']"
   ]
  },
  {
   "cell_type": "code",
   "execution_count": null,
   "id": "7d5f7662-b7c2-4115-9035-6b142d023eb9",
   "metadata": {},
   "outputs": [],
   "source": [
    "country_grp['SocialMedia'].value_counts(normalize = True).loc['India']"
   ]
  },
  {
   "cell_type": "code",
   "execution_count": null,
   "id": "0194c82d-0528-4465-9209-7d804239d946",
   "metadata": {},
   "outputs": [],
   "source": [
    "country_grp['ConvertedComp'].median()"
   ]
  },
  {
   "cell_type": "code",
   "execution_count": null,
   "id": "6ea8d52d-e87a-432e-9792-b41201455681",
   "metadata": {},
   "outputs": [],
   "source": [
    "country_grp['ConvertedComp'].median().loc['Germany']"
   ]
  },
  {
   "cell_type": "code",
   "execution_count": null,
   "id": "fb7c954b-b853-4d02-829f-addc65778197",
   "metadata": {},
   "outputs": [],
   "source": [
    "country_grp['ConvertedComp'].agg(['median','mean'])"
   ]
  },
  {
   "cell_type": "code",
   "execution_count": null,
   "id": "ac416a12-efad-4262-8d34-871e5f059111",
   "metadata": {},
   "outputs": [],
   "source": [
    "country_grp['ConvertedComp'].agg(['mean','median']).loc['Canada']"
   ]
  },
  {
   "cell_type": "code",
   "execution_count": null,
   "id": "08a0cfc0-a3bf-4665-9248-48a0c83559d9",
   "metadata": {},
   "outputs": [],
   "source": [
    "filt = df['Country'] == 'India'"
   ]
  },
  {
   "cell_type": "code",
   "execution_count": null,
   "id": "11db103e-8390-4194-b74a-21e1f74b9427",
   "metadata": {},
   "outputs": [],
   "source": [
    "df.loc[filt]['LanguageWorkedWith'].str.contains('Python')"
   ]
  },
  {
   "cell_type": "code",
   "execution_count": null,
   "id": "e9513856-5a0c-4853-99c5-eb6d0e6d485f",
   "metadata": {},
   "outputs": [],
   "source": [
    "filt = df['Country'] == 'India'"
   ]
  },
  {
   "cell_type": "code",
   "execution_count": null,
   "id": "def40f91-f6e5-4673-9197-081a57cb382e",
   "metadata": {},
   "outputs": [],
   "source": [
    "df.loc[filt]['LanguageWorkedWith'].str.contains('Python').sum()"
   ]
  },
  {
   "cell_type": "code",
   "execution_count": null,
   "id": "694e6cd7-89bd-46f7-969d-eeab496601c1",
   "metadata": {},
   "outputs": [],
   "source": [
    "country_grp['LanguageWorkedWith'].str.contains('Python').sum()"
   ]
  },
  {
   "cell_type": "code",
   "execution_count": null,
   "id": "ad957917-257d-4184-be6f-33c0771a4cd0",
   "metadata": {},
   "outputs": [],
   "source": [
    "country_grp['LanguageWorkedWith'].apply(lambda x: x.str.contains('Python').sum())"
   ]
  },
  {
   "cell_type": "code",
   "execution_count": null,
   "id": "937aa370-85bf-48af-b2d0-37e90ef4f66a",
   "metadata": {},
   "outputs": [],
   "source": [
    "country_respondents = df['Country'].value_counts()"
   ]
  },
  {
   "cell_type": "code",
   "execution_count": null,
   "id": "39a2b679-c41b-4b22-887b-8479ab3da110",
   "metadata": {},
   "outputs": [],
   "source": [
    "country_respondents"
   ]
  },
  {
   "cell_type": "code",
   "execution_count": null,
   "id": "540a51d4-25aa-410e-985b-15feb3c603bf",
   "metadata": {},
   "outputs": [],
   "source": [
    "df['YearsCode'].head(10)"
   ]
  },
  {
   "cell_type": "code",
   "execution_count": null,
   "id": "08740b9e-4be5-43b2-9051-3cd43f74c36f",
   "metadata": {},
   "outputs": [],
   "source": [
    "df['YearsCode'] = df['YearsCode'].astype(float)"
   ]
  },
  {
   "cell_type": "code",
   "execution_count": null,
   "id": "8c42fd7f-8e84-4bb9-8fee-88fec34b33fb",
   "metadata": {},
   "outputs": [],
   "source": [
    "df['YearsCode'].unique()\n"
   ]
  },
  {
   "cell_type": "code",
   "execution_count": null,
   "id": "9b1062d0-7607-4601-8996-454377efea92",
   "metadata": {},
   "outputs": [],
   "source": [
    "df['YearsCode'].replace('Less than 1 year', 0, inplace=True)"
   ]
  },
  {
   "cell_type": "code",
   "execution_count": null,
   "id": "ee2337cf-5e80-4160-9098-165b4498e922",
   "metadata": {},
   "outputs": [],
   "source": [
    "df['YearsCode'].unique()\n"
   ]
  },
  {
   "cell_type": "code",
   "execution_count": null,
   "id": "eb878eae-8c0d-4f8a-83e8-a33ffd6f8be0",
   "metadata": {},
   "outputs": [],
   "source": [
    "df['YearsCode'].replace('More than 50 years', 51, inplace= True)"
   ]
  },
  {
   "cell_type": "code",
   "execution_count": null,
   "id": "226a613d-ca9e-44a5-b7cf-90fc01fb7be4",
   "metadata": {},
   "outputs": [],
   "source": [
    "df['YearsCode'].unique()\n"
   ]
  },
  {
   "cell_type": "code",
   "execution_count": null,
   "id": "f19192b5-5e2b-457e-b016-92aff0abbdeb",
   "metadata": {},
   "outputs": [],
   "source": [
    "df['YearsCode'] = df['YearsCode'].astype(float)"
   ]
  },
  {
   "cell_type": "code",
   "execution_count": null,
   "id": "dec55b0a-0044-4a34-b9bf-84d78e010b03",
   "metadata": {},
   "outputs": [],
   "source": [
    "df['YearsCode'].mean()"
   ]
  },
  {
   "cell_type": "code",
   "execution_count": null,
   "id": "b6e722e9-7895-4851-9fea-935c4ec60fd4",
   "metadata": {},
   "outputs": [],
   "source": [
    "df['YearsCode'].median()\n"
   ]
  },
  {
   "cell_type": "code",
   "execution_count": null,
   "id": "82ca5050-c51f-4819-847f-0c63d7e040fe",
   "metadata": {},
   "outputs": [],
   "source": [
    "filt = (df['Country'] == 'India')\n",
    "india_df = df.loc[filt]\n",
    "india_df.head()\n"
   ]
  },
  {
   "cell_type": "code",
   "execution_count": null,
   "id": "e1cc7775-0ebf-4394-a0ea-f6e0cebf94c1",
   "metadata": {},
   "outputs": [],
   "source": [
    "india_df.to_csv('E:\\pandas demo\\data\\modified.csv')"
   ]
  },
  {
   "cell_type": "code",
   "execution_count": null,
   "id": "2b75c199-9738-4829-aa3a-7fbbf4e4b0a6",
   "metadata": {},
   "outputs": [],
   "source": [
    "india_df.to_csv('E:\\pandas demo\\data\\modified.tsv',sep ='\\t' )\n"
   ]
  },
  {
   "cell_type": "code",
   "execution_count": 23,
   "id": "81a7a4c6-8355-4257-a6dc-5cdfe15f452b",
   "metadata": {},
   "outputs": [],
   "source": [
    "india_df.to_excel('E:\\pandas demo\\data\\modified.xlsx')"
   ]
  },
  {
   "cell_type": "code",
   "execution_count": 24,
   "id": "c452a2b3-fdbc-4e6e-b631-7ffa9f69cdec",
   "metadata": {},
   "outputs": [],
   "source": [
    "test = pd.read_excel('E:\\pandas demo\\data\\modified.xlsx', index_col = 'Respondent')"
   ]
  },
  {
   "cell_type": "code",
   "execution_count": null,
   "id": "99eeffb2-ece5-4772-b1d1-b3e9a75bfcba",
   "metadata": {},
   "outputs": [],
   "source": [
    "test.head()"
   ]
  },
  {
   "cell_type": "code",
   "execution_count": 28,
   "id": "dc79961b-4feb-446a-8b9a-eb83f257d8bf",
   "metadata": {},
   "outputs": [],
   "source": [
    "india_df.to_json('E:\\pandas demo\\data\\modified.json',orient = 'records', lines = True)"
   ]
  },
  {
   "cell_type": "code",
   "execution_count": 29,
   "id": "7426b769-8e3d-4017-bf0c-1545e0c4dcf2",
   "metadata": {},
   "outputs": [],
   "source": [
    "test = pd.read_json('E:\\pandas demo\\data\\modified.json',orient = 'records', lines = True)"
   ]
  },
  {
   "cell_type": "code",
   "execution_count": null,
   "id": "f4f1301e-c29d-4612-8282-281692d5c8b4",
   "metadata": {},
   "outputs": [],
   "source": [
    "test.head()"
   ]
  },
  {
   "cell_type": "code",
   "execution_count": null,
   "id": "328eb00c-5854-42e4-bac0-af4498432b13",
   "metadata": {},
   "outputs": [],
   "source": []
  }
 ],
 "metadata": {
  "kernelspec": {
   "display_name": "jupyter-env",
   "language": "python",
   "name": "python3"
  },
  "language_info": {
   "codemirror_mode": {
    "name": "ipython",
    "version": 3
   },
   "file_extension": ".py",
   "mimetype": "text/x-python",
   "name": "python",
   "nbconvert_exporter": "python",
   "pygments_lexer": "ipython3",
   "version": "3.11.9"
  }
 },
 "nbformat": 4,
 "nbformat_minor": 5
}
